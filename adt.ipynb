{
 "cells": [
  {
   "cell_type": "markdown",
   "metadata": {},
   "source": [
    "# ADT"
   ]
  },
  {
   "cell_type": "code",
   "execution_count": 8,
   "metadata": {
    "scrolled": true
   },
   "outputs": [],
   "source": [
    "import os\n",
    "import sys\n",
    "\n",
    "import pickle\n",
    "import numpy as np\n",
    "import glob\n",
    "\n",
    "import warnings # ignore tensorflow warinings\n",
    "warnings.filterwarnings('ignore')\n",
    "warnings.simplefilter('ignore')\n",
    "\n",
    "from keras import backend as K\n",
    "import soundfile as psf\n",
    "\n",
    "sys.path.append('models')\n",
    "from large_vocab_adt_dafx2018.transcribe import transcribe, PERC_VOICE_SET\n",
    "import large_vocab_adt_dafx2018.model as model\n",
    "\n",
    "# pip install pyrsistent==0.16.1"
   ]
  },
  {
   "cell_type": "markdown",
   "metadata": {},
   "source": [
    "## Download Groove MIDI Dataset"
   ]
  },
  {
   "cell_type": "code",
   "execution_count": 13,
   "metadata": {
    "scrolled": true
   },
   "outputs": [],
   "source": [
    "# DOWNLOAD GROOVE MIDI DATASET\n",
    "import requests, zipfile, io\n",
    "\n",
    "groove_path = 'groove/'\n",
    "\n",
    "# if dir exists and is empty, remove\n",
    "if os.path.exists(groove_path) and os.listdir(groove_path)==0:\n",
    "    os.removedirs(groove_path)\n",
    "\n",
    "# if dir does not exist, download dataset\n",
    "if not os.path.exists(groove_path):\n",
    "    r = requests.get(zip_file_url)\n",
    "    z = zipfile.ZipFile(io.BytesIO(r.content))\n",
    "    z.extractall(\"./\")"
   ]
  },
  {
   "cell_type": "markdown",
   "metadata": {},
   "source": [
    "## Compute ADT to 8 voices"
   ]
  },
  {
   "cell_type": "code",
   "execution_count": 16,
   "metadata": {
    "scrolled": true
   },
   "outputs": [
    {
     "name": "stdout",
     "output_type": "stream",
     "text": [
      "Single output\n"
     ]
    }
   ],
   "source": [
    "models_path = 'models/large_vocab_adt_dafx2018/trained_models/'\n",
    "\n",
    "# load model\n",
    "model_definition_path = os.path.join(models_path,'303_s0_def.json')\n",
    "model_weights_path = os.path.join(models_path,'303_s0_weights.h5')\n",
    "model_configuration_id = 303\n",
    "sample_audio_files = dict([(v, os.path.join('models/audio/', '{}.wav'.format(v))) for v in PERC_VOICE_SET])\n",
    "\n",
    "# audio file\n",
    "input_audio_file = 'groove/drummer1/session1/1_funk_80_beat_4-4.wav'\n",
    "\n",
    "# compute model's onsets >> outputs 14 voices\n",
    "output = transcribe(model_definition_path,\n",
    "                    model_weights_path,\n",
    "                    input_audio_file,\n",
    "                    model_configuration_id,\n",
    "                    sample_audio_files,\n",
    "                    peak_params=None,\n",
    "                    output_sample_rate=44100)\n",
    "\n",
    "# save into out_14v\n",
    "out_14v = output['14v']['onset_activations']"
   ]
  },
  {
   "cell_type": "markdown",
   "metadata": {},
   "source": [
    "Since the model outputs 14 voices, we need to reduce them to the 8 ones present in the magenta dataset. In the magenta dataset there's actually 9 but one has no correspondence with the ones that this model outputs, so I removed it"
   ]
  },
  {
   "cell_type": "code",
   "execution_count": 59,
   "metadata": {
    "scrolled": true
   },
   "outputs": [],
   "source": [
    "# reduce 14 voices to the 8 present in the magenta dataset\n",
    "\n",
    "length_in_samples = model_14v.shape[0]\n",
    "out_8v = np.zeros([length_in_samples,8])\n",
    "\n",
    "reduced_mapping = {\n",
    "    0: [0],     # kick\n",
    "    1: [1,2],   # snare + snare rim \n",
    "    2: [3],     # crash\n",
    "    3: [4,12],  # ride + bell\n",
    "    4: [5],     # open hh\n",
    "    5: [6],     # closed hh\n",
    "    6: [7,8],   # low+mid tom\n",
    "    7: [9]      # high tom\n",
    "}\n",
    "\n",
    "\n",
    "eps = 0 # threshold ?\n",
    "\n",
    "for t in range(length_in_samples):\n",
    "    t_roll = model_14v[t,:]\n",
    "    t_roll[t_roll<eps] = 0\n",
    "    for i in reduced_mapping.keys():\n",
    "        out_8v[t,i] = np.max(t_roll[reduced_mapping[i]])"
   ]
  },
  {
   "cell_type": "markdown",
   "metadata": {},
   "source": [
    "## Extract onsets from midi file"
   ]
  },
  {
   "cell_type": "code",
   "execution_count": 27,
   "metadata": {
    "scrolled": true
   },
   "outputs": [],
   "source": [
    "import pretty_midi\n",
    "\n",
    "# same as audio file but changing .wav to .mid\n",
    "input_midi_file = input_audio_file.split('.')[-2] + '.mid'\n",
    "midi_data = pretty_midi.PrettyMIDI(input_midi_file)\n",
    "\n",
    "# extract onsets from midi file with midi_data.get_onsets()\n",
    "onsets = midi_data.get_onsets()"
   ]
  },
  {
   "cell_type": "code",
   "execution_count": 68,
   "metadata": {
    "scrolled": true
   },
   "outputs": [],
   "source": [
    "# get pretty_midi Notes objects in a list\n",
    "drums_notes = midi_data.instruments[0].notes[:]\n",
    "\n",
    "drums_onsets = []\n",
    "drums_instrument = []\n",
    "\n",
    "for note in drums_notes:\n",
    "    drums_onsets.append(note.start)    # onsets list\n",
    "    drums_instrument.append(note.pitch)   # instrument  \n",
    "\n",
    "drums_onsets = np.round(drums_onsets,2)   # in seconds\n",
    "drums_onsets = np.round(drums_onsets/0.01,0) # in samples\n"
   ]
  },
  {
   "cell_type": "code",
   "execution_count": 69,
   "metadata": {
    "scrolled": true
   },
   "outputs": [],
   "source": [
    "# map to 8 voices\n",
    "\n",
    "magenta_mapping = { # [key, [pitches]]\n",
    "    \"kick\":[0,[36]],\n",
    "    \"snare\":[1,[38,40,37]],\n",
    "    \"crash\":[2,[49,55,57,52]],\n",
    "    \"ride\":[3,[51,59,53]],\n",
    "    \"open_hh\":[4,[46,26]],\n",
    "    \"closed_hh\":[5,[42,22,44]],\n",
    "    \"low_mid_tom\":[6,[45,47]],\n",
    "    \"high_tom\":[7,[48,50]]\n",
    "}\n",
    "\n",
    "magenta_transcription = np.zeros([length_in_samples,8])\n",
    "\n",
    "for onset,inst in zip(drums_onsets,drums_instrument):\n",
    "    onset = int(onset)\n",
    "    \n",
    "    # map pretty_midi pitch to magenta pitch value\n",
    "    for magenta_inst in magenta_mapping.keys():\n",
    "        \n",
    "        if inst in magenta_mapping[magenta_inst][1]:\n",
    "            magenta_transcription[onset][magenta_mapping[magenta_inst][0]] = 1"
   ]
  },
  {
   "cell_type": "markdown",
   "metadata": {},
   "source": [
    "# Plot"
   ]
  },
  {
   "cell_type": "code",
   "execution_count": 84,
   "metadata": {
    "scrolled": true
   },
   "outputs": [],
   "source": [
    "import matplotlib.pyplot as plt\n",
    "import librosa.display\n",
    "\n",
    "%matplotlib inline\n",
    "\n",
    "def plot_activations(X, start_s, stop_s, sample_interval, sr=44100, size=(15,5)):\n",
    "    sample_interval = int(round(sample_interval * sr)) / float(sr)\n",
    "    hop_length = int(sample_interval * sr)\n",
    "    start_idx = int(start_s / sample_interval)\n",
    "    stop_idx = int(stop_s / sample_interval)\n",
    "    plt.figure(figsize=size)\n",
    "    librosa.display.specshow(X[start_idx:stop_idx,:].T, \n",
    "                             sr=sr, \n",
    "                             hop_length=hop_length,\n",
    "                             x_axis='time')\n",
    "        \n",
    "    labels = ['Kick Drum', # 0\n",
    "                  'Snare', # 1 Snare + Snare Rim\n",
    "                  'Crash', # 2\n",
    "                  'Ride', # 3 Ride + Bell\n",
    "                  'Open Hi-Hat', # 4\n",
    "                  'Closed Hi-Hat', # 5\n",
    "                  'Low-Mid Tom', # 6 Low + Mid\n",
    "                  'High Tom'] # 7\n",
    "     \n",
    "    plt.yticks(np.arange(X.shape[1]) + 0.5, labels)"
   ]
  },
  {
   "cell_type": "markdown",
   "metadata": {},
   "source": [
    "# Plot activations"
   ]
  },
  {
   "cell_type": "code",
   "execution_count": 83,
   "metadata": {
    "scrolled": false
   },
   "outputs": [
    {
     "data": {
      "image/png": "[encoded data removed]",
      "text/plain": [
       "<Figure size 1080x360 with 1 Axes>"
      ]
     },
     "metadata": {},
     "output_type": "display_data"
    },
    {
     "data": {
      "image/png": "[encoded data removed]",
      "text/plain": [
       "<Figure size 1080x360 with 1 Axes>"
      ]
     },
     "metadata": {},
     "output_type": "display_data"
    }
   ],
   "source": [
    "plot_activations(out_8v, 0, 10, 0.01)\n",
    "plot_activations(magenta_transcription,0,10,0.01)"
   ]
  },
  {
   "cell_type": "markdown",
   "metadata": {},
   "source": [
    "# Evaluation\n",
    "para hacer la evaluación hay q pasar un array de los onsets en segundos"
   ]
  },
  {
   "cell_type": "code",
   "execution_count": 53,
   "metadata": {
    "scrolled": true
   },
   "outputs": [
    {
     "name": "stdout",
     "output_type": "stream",
     "text": [
      "(407, 120)\n",
      "[0.05557268 0.05774906 0.05815276 0.06848445 0.06857081 0.07174249\n",
      " 0.07370358 0.0738991  0.07510225 0.07724554 0.08049838 0.08966239\n",
      " 0.09538527 0.09574794 0.09589703 0.09775061 0.10538893 0.10754065\n",
      " 0.11122363 0.11430717 0.1163701  0.11935682 0.13362081 0.13795494\n",
      " 0.14324968 0.15956778 0.17960746 0.18522495 0.18669159 0.1932326\n",
      " 0.19425934 0.19497629 0.20290852 0.20431392 0.2077242  0.21022773\n",
      " 0.21037649 0.21627357 0.21921615 0.22959979 0.23353769 0.23771664\n",
      " 0.24988871 0.25050555 0.26119082 0.26407671 0.26598686 0.26976829\n",
      " 0.2836882  0.28393181 0.28395412 0.28725044 0.28914706 0.29100389\n",
      " 0.291051   0.29165755 0.29276038 0.29428126 0.297491   0.29979478\n",
      " 0.3112837  0.31268605 0.32005883 0.32550344 0.3258742  0.33019991\n",
      " 0.33625511 0.35005133 0.36390157 0.36431793 0.3644125  0.3793756\n",
      " 0.38156945 0.38628861 0.39232131 0.39919632 0.40279011 0.40599476\n",
      " 0.40830552 0.41947692 0.42897011 0.42901819 0.43129093 0.43176854\n",
      " 0.4373814  0.43858734 0.44330537 0.45836376 0.4638045  0.46836805\n",
      " 0.47236223 0.4726351  0.47305591 0.47402479 0.47813329 0.48988551\n",
      " 0.4923328  0.49492069 0.49676863 0.50075928]\n"
     ]
    },
    {
     "data": {
      "text/plain": [
       "(0.060721062618595834, 0.03931203931203931, 0.13333333333333333)"
      ]
     },
     "execution_count": 53,
     "metadata": {},
     "output_type": "execute_result"
    }
   ],
   "source": [
    "import mir_eval\n",
    "onsets_eval_magenta = np.arange(length_in_samples)*magenta_transcription[:,0]*0.01\n",
    "#model_8v[model_8v<0.5] = 0\n",
    "#model_8v = model_8v[model_8v!=0]\n",
    "simp_model = out_8v;\n",
    "simp_model[simp_model<0.01] = 0\n",
    "\n",
    "onsets_eval_magenta = np.sort(onsets_eval_magenta[onsets_eval_magenta!=0])\n",
    "\n",
    "onsets_eval_model = np.arange(length_in_samples)*simp_model[:,0]*0.01\n",
    "onsets_eval_model = np.sort(onsets_eval_model[onsets_eval_model!=0])\n",
    "print(len(onsets_eval_model),len(onsets_eval_magenta))\n",
    "print(onsets_eval_model[0:100])\n",
    "mir_eval.onset.validate(onsets_eval_magenta,onsets_eval_model)\n",
    "mir_eval.onset.f_measure(onsets_eval_magenta,onsets_eval_model, window=0.05)"
   ]
  },
  {
   "cell_type": "markdown",
   "metadata": {},
   "source": [
    "## Helpers"
   ]
  },
  {
   "cell_type": "code",
   "execution_count": 9,
   "metadata": {
    "scrolled": true
   },
   "outputs": [],
   "source": [
    "# HELPERS \n",
    "#from utils import read_audio\n",
    "#input_audio_file = '1_rock_87_beat_4-4.wav'\n",
    "#x,sr= read_audio('1_rock_87_beat_4-4.wav')\n",
    "#print(len(x)/sr)\n",
    "\n",
    "# Model 303 is the Small, Multi-task model trained on real + synth, with classes weighted by entropy\n",
    "#\n",
    "# Other models:\n",
    "# MT-S-R (289)\n",
    "# MT-S-S (290)\n",
    "# MT-S-R+S (291)\n",
    "# MT-L-R (292)\n",
    "# MT-L-S (293)\n",
    "# MT-L-R+S (294)\n",
    "# 14VST-S-R+S (295)\n",
    "# 3VST-S-R+S (301)\n",
    "# BTST-S-R+S (302)\n",
    "# 14VST-S-R+S-Eweight (303)"
   ]
  },
  {
   "cell_type": "code",
   "execution_count": 20,
   "metadata": {
    "scrolled": true
   },
   "outputs": [
    {
     "data": {
      "text/plain": [
       "'\\nfailing\\n# reduce 14 voices to the 8 present in the magenta dataset\\n\\nlength_in_samples = model_14v.shape[0]\\nmodel_8v = np.zeros([timefrs,8])\\n\\nreduced_mapping = {\\n    \"kick\": [0,[0]],     # kick\\n    \"snare\": [1,[1,2]],   # snare + snare rim \\n    \"crash\": [2,[3]],     # crash\\n    \"ride\": [3,[4,12]],  # ride + bell\\n    \"open_hh\": [4,[5]],     # open hh\\n    \"closed_hh\": [5,[6]],     # closed hh\\n    \"low_mid_tom\": [6,[7,8]],   # low+mid tom\\n    \"high_tom\": [7,[9]]      # high tom\\n}\\n\\n\\neps = 0 #threshold ?\\nfor t in range(timefrs):\\n    t_roll = model_14v[t,:]\\n    t_roll[t_roll<eps] = 0\\n    for i,inst in enumerate(reduced_mapping.keys()):\\n        model_8v[t,i] = np.max(t_roll[reduced_mapping[inst][1]])\\n\\n'"
      ]
     },
     "execution_count": 20,
     "metadata": {},
     "output_type": "execute_result"
    }
   ],
   "source": [
    "\"\"\"\n",
    "failing\n",
    "# reduce 14 voices to the 8 present in the magenta dataset\n",
    "\n",
    "length_in_samples = model_14v.shape[0]\n",
    "model_8v = np.zeros([timefrs,8])\n",
    "\n",
    "reduced_mapping = {\n",
    "    \"kick\": [0,[0]],     # kick\n",
    "    \"snare\": [1,[1,2]],   # snare + snare rim \n",
    "    \"crash\": [2,[3]],     # crash\n",
    "    \"ride\": [3,[4,12]],  # ride + bell\n",
    "    \"open_hh\": [4,[5]],     # open hh\n",
    "    \"closed_hh\": [5,[6]],     # closed hh\n",
    "    \"low_mid_tom\": [6,[7,8]],   # low+mid tom\n",
    "    \"high_tom\": [7,[9]]      # high tom\n",
    "}\n",
    "\n",
    "\n",
    "eps = 0 #threshold ?\n",
    "for t in range(timefrs):\n",
    "    t_roll = model_14v[t,:]\n",
    "    t_roll[t_roll<eps] = 0\n",
    "    for i,inst in enumerate(reduced_mapping.keys()):\n",
    "        model_8v[t,i] = np.max(t_roll[reduced_mapping[inst][1]])\n",
    "\n",
    "\"\"\""
   ]
  }
 ],
 "metadata": {
  "kernelspec": {
   "display_name": "rhythm",
   "language": "python",
   "name": "rhtyhm"
  },
  "language_info": {
   "codemirror_mode": {
    "name": "ipython",
    "version": 2
   },
   "file_extension": ".py",
   "mimetype": "text/x-python",
   "name": "python",
   "nbconvert_exporter": "python",
   "pygments_lexer": "ipython2",
   "version": "2.7.15"
  }
 },
 "nbformat": 4,
 "nbformat_minor": 4
}
