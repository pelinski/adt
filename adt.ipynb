{
 "cells": [
  {
   "cell_type": "markdown",
   "metadata": {},
   "source": [
    "# Obtain model onset prediction"
   ]
  },
  {
   "cell_type": "code",
   "execution_count": 256,
   "metadata": {},
   "outputs": [],
   "source": [
    "import pickle\n",
    "import os\n",
    "import numpy as np\n",
    "import glob\n",
    "\n",
    "import warnings # ignore tensorflow warinings\n",
    "warnings.filterwarnings('ignore')\n",
    "warnings.simplefilter('ignore')\n",
    "\n",
    "from keras import backend as K\n",
    "from large_vocab_adt_dafx2018.transcribe import transcribe, PERC_VOICE_SET\n",
    "import soundfile as psf\n",
    "\n",
    "import sys\n",
    "sys.path.append('large_vocab_adt_dafx2018')\n",
    "import large_vocab_adt_dafx2018.model as model\n"
   ]
  },
  {
   "cell_type": "code",
   "execution_count": 257,
   "metadata": {},
   "outputs": [
    {
     "name": "stdout",
     "output_type": "stream",
     "text": [
      "57\n"
     ]
    }
   ],
   "source": [
    "from utils import read_audio\n",
    "input_audio_file = '1_rock_87_beat_4-4.wav'\n",
    "x,sr= read_audio('1_rock_87_beat_4-4.wav')\n",
    "print(len(x)/sr)\n",
    "\n",
    "# Model 303 is the Small, Multi-task model trained on real + synth, with classes weighted by entropy\n",
    "#\n",
    "# Other models:\n",
    "# MT-S-R (289)\n",
    "# MT-S-S (290)\n",
    "# MT-S-R+S (291)\n",
    "# MT-L-R (292)\n",
    "# MT-L-S (293)\n",
    "# MT-L-R+S (294)\n",
    "# 14VST-S-R+S (295)\n",
    "# 3VST-S-R+S (301)\n",
    "# BTST-S-R+S (302)\n",
    "# 14VST-S-R+S-Eweight (303)\n",
    "model_definition_path = 'large_vocab_adt_dafx2018/trained_models/303_s0_def.json'\n",
    "model_weights_path = 'large_vocab_adt_dafx2018/trained_models/303_s0_weights.h5'\n",
    "model_configuration_id = 303\n",
    "sample_audio_files = dict([(v, os.path.join('audio/', '{}.wav'.format(v))) for v in PERC_VOICE_SET])"
   ]
  },
  {
   "cell_type": "code",
   "execution_count": 258,
   "metadata": {},
   "outputs": [
    {
     "name": "stdout",
     "output_type": "stream",
     "text": [
      "Single output\n"
     ]
    }
   ],
   "source": [
    "# compute model's onsets >> outputs 14 voices\n",
    "output = transcribe(model_definition_path,\n",
    "                    model_weights_path,\n",
    "                    input_audio_file,\n",
    "                    model_configuration_id,\n",
    "                    sample_audio_files,\n",
    "                    peak_params=None,\n",
    "                    output_sample_rate=44100)\n",
    "\n",
    "model_14v = output['14v']['onset_activations']"
   ]
  },
  {
   "cell_type": "markdown",
   "metadata": {},
   "source": [
    "Since the model outputs 14 voices, we need to reduce them to the 8 ones present in the magenta dataset. In the magenta dataset there's actually 9 but one has no correspondence with the ones that this model outputs, so I removed it"
   ]
  },
  {
   "cell_type": "code",
   "execution_count": 259,
   "metadata": {},
   "outputs": [],
   "source": [
    "# reduce 14 voices to the 8 present in the magenta dataset\n",
    "\n",
    "length_in_samples = model_14v.shape[0]\n",
    "model_8v = np.zeros([timefrs,8])\n",
    "\n",
    "reduced_mapping = {\n",
    "    0: [0],     # kick\n",
    "    1: [1,2],   # snare + snare rim \n",
    "    2: [3],     # crash\n",
    "    3: [4,12],  # ride + bell\n",
    "    4: [5],     # open hh\n",
    "    5: [6],     # closed hh\n",
    "    6: [7,8],   # low+mid tom\n",
    "    7: [9]      # high tom\n",
    "}\n",
    "\n",
    "\n",
    "eps = 0 #threshold ?\n",
    "for t in range(timefrs):\n",
    "    t_roll = model_14v[t,:]\n",
    "    t_roll[t_roll<eps] = 0\n",
    "    for i in reduced_mapping.keys():\n",
    "        model_8v[t,i] = np.max(t_roll[reduced_mapping[i]])"
   ]
  },
  {
   "cell_type": "code",
   "execution_count": 260,
   "metadata": {},
   "outputs": [
    {
     "data": {
      "text/plain": [
       "'\\nfailing\\n# reduce 14 voices to the 8 present in the magenta dataset\\n\\nlength_in_samples = model_14v.shape[0]\\nmodel_8v = np.zeros([timefrs,8])\\n\\nreduced_mapping = {\\n    \"kick\": [0,[0]],     # kick\\n    \"snare\": [1,[1,2]],   # snare + snare rim \\n    \"crash\": [2,[3]],     # crash\\n    \"ride\": [3,[4,12]],  # ride + bell\\n    \"open_hh\": [4,[5]],     # open hh\\n    \"closed_hh\": [5,[6]],     # closed hh\\n    \"low_mid_tom\": [6,[7,8]],   # low+mid tom\\n    \"high_tom\": [7,[9]]      # high tom\\n}\\n\\n\\neps = 0 #threshold ?\\nfor t in range(timefrs):\\n    t_roll = model_14v[t,:]\\n    t_roll[t_roll<eps] = 0\\n    for i,inst in enumerate(reduced_mapping.keys()):\\n        model_8v[t,i] = np.max(t_roll[reduced_mapping[inst][1]])\\n\\n'"
      ]
     },
     "execution_count": 260,
     "metadata": {},
     "output_type": "execute_result"
    }
   ],
   "source": [
    "\"\"\"\n",
    "failing\n",
    "# reduce 14 voices to the 8 present in the magenta dataset\n",
    "\n",
    "length_in_samples = model_14v.shape[0]\n",
    "model_8v = np.zeros([timefrs,8])\n",
    "\n",
    "reduced_mapping = {\n",
    "    \"kick\": [0,[0]],     # kick\n",
    "    \"snare\": [1,[1,2]],   # snare + snare rim \n",
    "    \"crash\": [2,[3]],     # crash\n",
    "    \"ride\": [3,[4,12]],  # ride + bell\n",
    "    \"open_hh\": [4,[5]],     # open hh\n",
    "    \"closed_hh\": [5,[6]],     # closed hh\n",
    "    \"low_mid_tom\": [6,[7,8]],   # low+mid tom\n",
    "    \"high_tom\": [7,[9]]      # high tom\n",
    "}\n",
    "\n",
    "\n",
    "eps = 0 #threshold ?\n",
    "for t in range(timefrs):\n",
    "    t_roll = model_14v[t,:]\n",
    "    t_roll[t_roll<eps] = 0\n",
    "    for i,inst in enumerate(reduced_mapping.keys()):\n",
    "        model_8v[t,i] = np.max(t_roll[reduced_mapping[inst][1]])\n",
    "\n",
    "\"\"\""
   ]
  },
  {
   "cell_type": "markdown",
   "metadata": {},
   "source": [
    "# Midi to format"
   ]
  },
  {
   "cell_type": "code",
   "execution_count": 261,
   "metadata": {},
   "outputs": [],
   "source": [
    "import pretty_midi\n",
    "midi_data = pretty_midi.PrettyMIDI('1_rock_87_beat_4-4.mid')\n",
    "input_audio_file = '1_rock_87_beat_4-4.wav'\n",
    "onsets = midi_data.get_onsets()"
   ]
  },
  {
   "cell_type": "code",
   "execution_count": 262,
   "metadata": {},
   "outputs": [],
   "source": [
    "# get pretty_midi Notes objects in a list\n",
    "drums_notes = midi_data.instruments[0].notes[:]\n",
    "\n",
    "drums_onsets = []\n",
    "drums_pitches = []\n",
    "\n",
    "for note in drums_notes:\n",
    "    drums_onsets.append(note.start)\n",
    "    drums_pitches.append(note.pitch)\n",
    "\n",
    "drums_onsets = np.round(drums_onsets,2)\n"
   ]
  },
  {
   "cell_type": "code",
   "execution_count": 263,
   "metadata": {},
   "outputs": [],
   "source": [
    "# transform to match format\n",
    "# mapear onsets a samples\n",
    "frmTime = hop_length*np.arange(length_in_samples)/float(sr); \n",
    "onsets_in_samples = np.round(drums_onsets/0.01,0)\n",
    "\n",
    "# mapear pitches al set reducido \n",
    "magenta_mapping = { # [key, [pitches]]\n",
    "    \"kick\":[0,[36]],\n",
    "    \"snare\":[1,[38,40,37]],\n",
    "    \"crash\":[2,[49,55,57,52]],\n",
    "    \"ride\":[3,[51,59,53]],\n",
    "    \"open_hh\":[4,[46,26]],\n",
    "    \"closed_hh\":[5,[42,22,44]],\n",
    "    \"low_mid_tom\":[6,[45,47]],\n",
    "    \"high_tom\":[7,[48,50]]\n",
    "}\n",
    "\n",
    "magenta_transcription = np.zeros([length_in_samples,8])\n",
    "\n",
    "for onset,pitch in zip(onsets_in_samples,drums_pitches):\n",
    "    onset = int(onset)\n",
    "    for inst in magenta_mapping.keys():\n",
    "        if pitch in magenta_mapping[inst][1]:\n",
    "            magenta_transcription[onset][magenta[inst][0]] = 1"
   ]
  },
  {
   "cell_type": "markdown",
   "metadata": {},
   "source": [
    "# Plot"
   ]
  },
  {
   "cell_type": "code",
   "execution_count": 264,
   "metadata": {},
   "outputs": [],
   "source": [
    "import matplotlib.pyplot as plt\n",
    "import librosa.display\n",
    "\n",
    "%matplotlib inline\n",
    "\n",
    "def plot_activations(X, voice_type, start_s, stop_s, sample_interval, sr=44100, size=(15,5)):\n",
    "    sample_interval = int(round(sample_interval * sr)) / float(sr)\n",
    "    hop_length = int(sample_interval * sr)\n",
    "    start_idx = int(start_s / sample_interval)\n",
    "    stop_idx = int(stop_s / sample_interval)\n",
    "    plt.figure(figsize=size)\n",
    "    print(X.shape)\n",
    "    librosa.display.specshow(X[start_idx:stop_idx,:].T, \n",
    "                             sr=sr, \n",
    "                             hop_length=hop_length,\n",
    "                             x_axis='time')\n",
    "    \n",
    "    if voice_type == 'full':\n",
    "        labels = ['Kick Drum',\n",
    "                  'Snare',\n",
    "                  'Snare Rim',\n",
    "                  'Crash',\n",
    "                  'Ride',\n",
    "                  'Open Hi-Hat',\n",
    "                  'Closed Hi-Hat',\n",
    "                  'Low Tom',\n",
    "                  'Mid Tom',\n",
    "                  'High Tom',\n",
    "                  'Conga / Bongo',\n",
    "                  'Clap',\n",
    "                  'Bell',\n",
    "                  'Clave']\n",
    "        \n",
    "    elif voice_type == 'reduced':\n",
    "        labels = ['Kick Drum', # 0\n",
    "                  'Snare', # 1 Snare + Snare Rim\n",
    "                  'Crash', # 2\n",
    "                  'Ride', # 3 Ride + Bell\n",
    "                  'Open Hi-Hat', # 4\n",
    "                  'Closed Hi-Hat', # 5\n",
    "                  'Low-Mid Tom', # 6 Low + Mid\n",
    "                  'High Tom'] # 7\n",
    "    else:\n",
    "        labels = ['Kick Drum',\n",
    "                  'Snare',\n",
    "                  'Hi-Hat']        \n",
    "    plt.yticks(np.arange(X.shape[1]) + 0.5, labels)"
   ]
  },
  {
   "cell_type": "markdown",
   "metadata": {},
   "source": [
    "# Plot activations"
   ]
  },
  {
   "cell_type": "code",
   "execution_count": 265,
   "metadata": {
    "scrolled": true
   },
   "outputs": [],
   "source": [
    "#plot_activations(output['14v']['onset_activations'], 'full', 0, 10, 0.01)"
   ]
  },
  {
   "cell_type": "code",
   "execution_count": 266,
   "metadata": {
    "scrolled": true
   },
   "outputs": [
    {
     "name": "stdout",
     "output_type": "stream",
     "text": [
      "[0.00239161 0.00049933 0.00040749 ... 0.00048659 0.00039668 0.0009244 ]\n",
      "(5780, 8)\n"
     ]
    },
    {
     "data": {
      "image/png": "[encoded data removed]",
      "text/plain": [
       "<Figure size 1080x360 with 1 Axes>"
      ]
     },
     "metadata": {},
     "output_type": "display_data"
    }
   ],
   "source": [
    "print(model_8v[:,0])\n",
    "plot_activations(model_8v,'reduced', 0, 10, 0.01)"
   ]
  },
  {
   "cell_type": "code",
   "execution_count": 267,
   "metadata": {},
   "outputs": [
    {
     "name": "stdout",
     "output_type": "stream",
     "text": [
      "(5780, 8)\n"
     ]
    },
    {
     "data": {
      "image/png": "[encoded data removed]",
      "text/plain": [
       "<Figure size 1080x360 with 1 Axes>"
      ]
     },
     "metadata": {},
     "output_type": "display_data"
    }
   ],
   "source": [
    "plot_activations(magenta_transcription,'reduced',0,10,0.01)"
   ]
  },
  {
   "cell_type": "markdown",
   "metadata": {},
   "source": [
    "# Evaluation\n",
    "para hacer la evaluación hay q pasar un array de los onsets en segundos"
   ]
  },
  {
   "cell_type": "code",
   "execution_count": 281,
   "metadata": {},
   "outputs": [
    {
     "name": "stdout",
     "output_type": "stream",
     "text": [
      "(36, 91)\n",
      "[ 0.43218608  0.98040895  2.24367612  2.50780967  2.96283032  4.89415155\n",
      "  4.93356694  5.94546473  6.52292229  8.98145752  9.46796876  9.95104163\n",
      " 10.74262218 13.08444189 13.3507053  13.6016643  15.9678551  18.12746085\n",
      " 18.20073486 19.2643548  20.67454075 20.80247129 21.34856056 22.52797204\n",
      " 23.87943531 26.65698599 27.08815178 28.0797875  29.80735372 31.78906928\n",
      " 32.23063384 37.13218966 40.24977576 40.28043685 41.2317795  42.76134685]\n"
     ]
    },
    {
     "data": {
      "text/plain": [
       "(0.07874015748031496, 0.1388888888888889, 0.054945054945054944)"
      ]
     },
     "execution_count": 281,
     "metadata": {},
     "output_type": "execute_result"
    }
   ],
   "source": [
    "import mir_eval\n",
    "onsets_eval_magenta = np.arange(length_in_samples)*magenta_transcription[:,0]*0.01\n",
    "#model_8v[model_8v<0.5] = 0\n",
    "#model_8v = model_8v[model_8v!=0]\n",
    "simp_model = model_8v;\n",
    "simp_model[simp_model<0.01] = 0\n",
    "\n",
    "onsets_eval_magenta = np.sort(onsets_eval_magenta[onsets_eval_magenta!=0])\n",
    "\n",
    "onsets_eval_model = np.arange(length_in_samples)*simp_model[:,0]*0.01\n",
    "onsets_eval_model = np.sort(onsets_eval_model[onsets_eval_model!=0])\n",
    "print(len(onsets_eval_model),len(onsets_eval_magenta))\n",
    "print(onsets_eval_model[0:100])\n",
    "mir_eval.onset.validate(onsets_eval_magenta,onsets_eval_model)\n",
    "mir_eval.onset.f_measure(onsets_eval_magenta,onsets_eval_model, window=0.05)"
   ]
  },
  {
   "cell_type": "code",
   "execution_count": null,
   "metadata": {},
   "outputs": [],
   "source": []
  },
  {
   "cell_type": "code",
   "execution_count": null,
   "metadata": {},
   "outputs": [],
   "source": []
  }
 ],
 "metadata": {
  "kernelspec": {
   "display_name": "rhythm",
   "language": "python",
   "name": "rhtyhm"
  },
  "language_info": {
   "codemirror_mode": {
    "name": "ipython",
    "version": 2
   },
   "file_extension": ".py",
   "mimetype": "text/x-python",
   "name": "python",
   "nbconvert_exporter": "python",
   "pygments_lexer": "ipython2",
   "version": "2.7.15"
  }
 },
 "nbformat": 4,
 "nbformat_minor": 4
}
