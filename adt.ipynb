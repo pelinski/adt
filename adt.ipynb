{
 "cells": [
  {
   "cell_type": "markdown",
   "metadata": {},
   "source": [
    "# ADT"
   ]
  },
  {
   "cell_type": "code",
   "execution_count": 8,
   "metadata": {
    "scrolled": true
   },
   "outputs": [],
   "source": [
    "import os\n",
    "import sys\n",
    "\n",
    "import pickle\n",
    "import numpy as np\n",
    "import glob\n",
    "\n",
    "import warnings # ignore tensorflow warinings\n",
    "warnings.filterwarnings('ignore')\n",
    "warnings.simplefilter('ignore')\n",
    "\n",
    "from keras import backend as K\n",
    "import soundfile as psf\n",
    "\n",
    "sys.path.append('models')\n",
    "from large_vocab_adt_dafx2018.transcribe import transcribe, PERC_VOICE_SET\n",
    "import large_vocab_adt_dafx2018.model as model\n",
    "\n",
    "# pip install pyrsistent==0.16.1"
   ]
  },
  {
   "cell_type": "markdown",
   "metadata": {},
   "source": [
    "## Download Groove MIDI Dataset"
   ]
  },
  {
   "cell_type": "code",
   "execution_count": 13,
   "metadata": {
    "scrolled": true
   },
   "outputs": [],
   "source": [
    "# DOWNLOAD GROOVE MIDI DATASET\n",
    "import requests, zipfile, io\n",
    "\n",
    "groove_path = 'groove/'\n",
    "\n",
    "# if dir exists and is empty, remove\n",
    "if os.path.exists(groove_path) and os.listdir(groove_path)==0:\n",
    "    os.removedirs(groove_path)\n",
    "\n",
    "# if dir does not exist, download dataset\n",
    "if not os.path.exists(groove_path):\n",
    "    r = requests.get(zip_file_url)\n",
    "    z = zipfile.ZipFile(io.BytesIO(r.content))\n",
    "    z.extractall(\"./\")"
   ]
  },
  {
   "cell_type": "markdown",
   "metadata": {},
   "source": [
    "## Compute ADT to 8 voices"
   ]
  },
  {
   "cell_type": "code",
   "execution_count": 124,
   "metadata": {
    "scrolled": true
   },
   "outputs": [
    {
     "name": "stdout",
     "output_type": "stream",
     "text": [
      "Single output\n"
     ]
    }
   ],
   "source": [
    "models_path = 'models/large_vocab_adt_dafx2018/trained_models/'\n",
    "\n",
    "# load model\n",
    "model_definition_path = os.path.join(models_path,'303_s0_def.json')\n",
    "model_weights_path = os.path.join(models_path,'303_s0_weights.h5')\n",
    "model_configuration_id = 303\n",
    "sample_audio_files = dict([(v, os.path.join('models/audio/', '{}.wav'.format(v))) for v in PERC_VOICE_SET])\n",
    "\n",
    "# audio file\n",
    "input_audio_file = 'groove/drummer1/session1/1_funk_80_beat_4-4.wav'\n",
    "\n",
    "# compute model's onsets >> outputs 14 voices\n",
    "output = transcribe(model_definition_path,\n",
    "                    model_weights_path,\n",
    "                    input_audio_file,\n",
    "                    model_configuration_id,\n",
    "                    sample_audio_files,\n",
    "                    peak_params=None,\n",
    "                    output_sample_rate=44100)\n",
    "\n",
    "# save into out_14v\n",
    "out_14v = output['14v']['onset_activations']"
   ]
  },
  {
   "cell_type": "markdown",
   "metadata": {},
   "source": [
    "Since the model outputs 14 voices, we need to reduce them to the 8 ones present in the magenta dataset. In the magenta dataset there's actually 9 but one has no correspondence with the ones that this model outputs, so I removed it"
   ]
  },
  {
   "cell_type": "code",
   "execution_count": 125,
   "metadata": {
    "scrolled": true
   },
   "outputs": [],
   "source": [
    "# reduce 14 voices to the 8 present in the magenta dataset\n",
    "\n",
    "length_in_samples = model_14v.shape[0]\n",
    "out_8v = np.zeros([length_in_samples,8])\n",
    "\n",
    "reduced_mapping = {\n",
    "    0: [0],     # kick\n",
    "    1: [1,2],   # snare + snare rim \n",
    "    2: [3],     # crash\n",
    "    3: [4,12],  # ride + bell\n",
    "    4: [5],     # open hh\n",
    "    5: [6],     # closed hh\n",
    "    6: [7,8],   # low+mid tom\n",
    "    7: [9]      # high tom\n",
    "}\n",
    "\n",
    "\n",
    "eps = 0 # threshold ?\n",
    "\n",
    "for t in range(length_in_samples):\n",
    "    t_roll = model_14v[t,:]\n",
    "    t_roll[t_roll<eps] = 0\n",
    "    for i in reduced_mapping.keys():\n",
    "        out_8v[t,i] = np.max(t_roll[reduced_mapping[i]])"
   ]
  },
  {
   "cell_type": "markdown",
   "metadata": {},
   "source": [
    "## Extract onsets from midi file"
   ]
  },
  {
   "cell_type": "code",
   "execution_count": 126,
   "metadata": {
    "scrolled": true
   },
   "outputs": [],
   "source": [
    "import pretty_midi\n",
    "\n",
    "# same as audio file but changing .wav to .mid\n",
    "input_midi_file = input_audio_file.split('.')[-2] + '.mid'\n",
    "midi_data = pretty_midi.PrettyMIDI(input_midi_file)\n",
    "\n",
    "# extract onsets from midi file with midi_data.get_onsets()\n",
    "onsets = midi_data.get_onsets()"
   ]
  },
  {
   "cell_type": "code",
   "execution_count": 180,
   "metadata": {
    "scrolled": true
   },
   "outputs": [],
   "source": [
    "# get pretty_midi Notes objects in a list\n",
    "drums_notes = midi_data.instruments[0].notes[:]\n",
    "\n",
    "drums_onsets = []\n",
    "drums_instrument = []\n",
    "\n",
    "for note in drums_notes:\n",
    "    drums_onsets.append(note.start)    # onsets list\n",
    "    drums_instrument.append(note.pitch)   # instrument  \n",
    "\n",
    "drums_onsets = np.array(drums_onsets) # in seconds\n",
    "drums_onsets = np.round(drums_onsets/0.01,0) # in samples\n"
   ]
  },
  {
   "cell_type": "code",
   "execution_count": 181,
   "metadata": {
    "scrolled": true
   },
   "outputs": [],
   "source": [
    "# map to 8 voices\n",
    "\n",
    "magenta_mapping = { # [key, [pitches]]\n",
    "    \"kick\":[0,[36]],\n",
    "    \"snare\":[1,[38,40,37]],\n",
    "    \"crash\":[2,[49,55,57,52]],\n",
    "    \"ride\":[3,[51,59,53]],\n",
    "    \"open_hh\":[4,[46,26]],\n",
    "    \"closed_hh\":[5,[42,22,44]],\n",
    "    \"low_mid_tom\":[6,[45,47]],\n",
    "    \"high_tom\":[7,[48,50]]\n",
    "}\n",
    "\n",
    "magenta_transcription = np.zeros([length_in_samples,8])\n",
    "\n",
    "for onset,inst in zip(drums_onsets,drums_instrument):\n",
    "    onset = int(onset)\n",
    "    \n",
    "    # map pretty_midi pitch to magenta pitch value\n",
    "    for magenta_inst in magenta_mapping.keys():\n",
    "        \n",
    "        if inst in magenta_mapping[magenta_inst][1]:\n",
    "            magenta_transcription[onset][magenta_mapping[magenta_inst][0]] = 1"
   ]
  },
  {
   "cell_type": "markdown",
   "metadata": {},
   "source": [
    "# Plot"
   ]
  },
  {
   "cell_type": "code",
   "execution_count": 182,
   "metadata": {
    "scrolled": true
   },
   "outputs": [],
   "source": [
    "import matplotlib.pyplot as plt\n",
    "import librosa.display\n",
    "\n",
    "%matplotlib inline\n",
    "\n",
    "def plot_activations(X, start_s, stop_s, sample_interval, sr=44100, size=(15,5)):\n",
    "    sample_interval = int(round(sample_interval * sr)) / float(sr)\n",
    "    hop_length = int(sample_interval * sr)\n",
    "    start_idx = int(start_s / sample_interval)\n",
    "    stop_idx = int(stop_s / sample_interval)\n",
    "    plt.figure(figsize=size)\n",
    "    librosa.display.specshow(X[start_idx:stop_idx,:].T, \n",
    "                             sr=sr, \n",
    "                             hop_length=hop_length,\n",
    "                             x_axis='time')\n",
    "        \n",
    "    labels = ['Kick Drum', # 0\n",
    "                  'Snare', # 1 Snare + Snare Rim\n",
    "                  'Crash', # 2\n",
    "                  'Ride', # 3 Ride + Bell\n",
    "                  'Open Hi-Hat', # 4\n",
    "                  'Closed Hi-Hat', # 5\n",
    "                  'Low-Mid Tom', # 6 Low + Mid\n",
    "                  'High Tom'] # 7\n",
    "     \n",
    "    plt.yticks(np.arange(X.shape[1]) + 0.5, labels)\n",
    "    \n",
    "    # TODO change range in x"
   ]
  },
  {
   "cell_type": "markdown",
   "metadata": {},
   "source": [
    "# Plot activations"
   ]
  },
  {
   "cell_type": "code",
   "execution_count": 183,
   "metadata": {
    "scrolled": false
   },
   "outputs": [
    {
     "data": {
      "image/png": "[encoded data removed]",
      "text/plain": [
       "<Figure size 1080x360 with 1 Axes>"
      ]
     },
     "metadata": {},
     "output_type": "display_data"
    },
    {
     "data": {
      "image/png": "[encoded data removed]",
      "text/plain": [
       "<Figure size 1080x360 with 1 Axes>"
      ]
     },
     "metadata": {},
     "output_type": "display_data"
    }
   ],
   "source": [
    "plot_activations(out_8v, 0, 3.5, 0.01)\n",
    "plot_activations(magenta_transcription, 0, 3.5, 0.01)"
   ]
  },
  {
   "cell_type": "markdown",
   "metadata": {},
   "source": [
    "# Evaluation\n",
    "para hacer la evaluación hay q pasar un array de los onsets en segundos"
   ]
  },
  {
   "cell_type": "code",
   "execution_count": 186,
   "metadata": {
    "scrolled": true
   },
   "outputs": [
    {
     "name": "stdout",
     "output_type": "stream",
     "text": [
      "(8676, 120)\n"
     ]
    },
    {
     "data": {
      "text/plain": [
       "(0.0034106412005457027, 0.0017289073305670815, 0.125)"
      ]
     },
     "execution_count": 186,
     "metadata": {},
     "output_type": "execute_result"
    }
   ],
   "source": [
    "import mir_eval\n",
    "\n",
    "onsets_eval_magenta = np.arange(length_in_samples)*magenta_transcription[:,0]*0.01 \n",
    "\n",
    "\n",
    "#model_8v[model_8v<0.5] = 0\n",
    "#model_8v = model_8v[model_8v!=0]\n",
    "simp_model = out_8v;\n",
    "#simp_model[simp_model<0.5] = 0\n",
    "\n",
    "onsets_eval_magenta = np.sort(onsets_eval_magenta[onsets_eval_magenta!=0])\n",
    "\n",
    "onsets_eval_model = np.arange(length_in_samples)*simp_model[:,0]*0.01\n",
    "onsets_eval_model = np.sort(onsets_eval_model[onsets_eval_model!=0])\n",
    "\n",
    "print(len(onsets_eval_model),len(onsets_eval_magenta))\n",
    "#print(onsets_eval_model[0:100])\n",
    "\n",
    "\n",
    "# mir_eval: \n",
    "# Onsets should be provided in the form of a 1-dimensional array of onset \n",
    "# times in seconds in increasing order.\n",
    "# default window is 0.05 seconds\n",
    "mir_eval.onset.validate(onsets_eval_magenta,onsets_eval_model)\n",
    "mir_eval.onset.f_measure(onsets_eval_magenta,onsets_eval_model, window=0.05)"
   ]
  },
  {
   "cell_type": "markdown",
   "metadata": {},
   "source": [
    "## Helpers"
   ]
  },
  {
   "cell_type": "code",
   "execution_count": 9,
   "metadata": {
    "scrolled": true
   },
   "outputs": [],
   "source": [
    "# HELPERS \n",
    "#from utils import read_audio\n",
    "#input_audio_file = '1_rock_87_beat_4-4.wav'\n",
    "#x,sr= read_audio('1_rock_87_beat_4-4.wav')\n",
    "#print(len(x)/sr)\n",
    "\n",
    "# Model 303 is the Small, Multi-task model trained on real + synth, with classes weighted by entropy\n",
    "#\n",
    "# Other models:\n",
    "# MT-S-R (289)\n",
    "# MT-S-S (290)\n",
    "# MT-S-R+S (291)\n",
    "# MT-L-R (292)\n",
    "# MT-L-S (293)\n",
    "# MT-L-R+S (294)\n",
    "# 14VST-S-R+S (295)\n",
    "# 3VST-S-R+S (301)\n",
    "# BTST-S-R+S (302)\n",
    "# 14VST-S-R+S-Eweight (303)"
   ]
  },
  {
   "cell_type": "code",
   "execution_count": 20,
   "metadata": {
    "scrolled": true
   },
   "outputs": [
    {
     "data": {
      "text/plain": [
       "'\\nfailing\\n# reduce 14 voices to the 8 present in the magenta dataset\\n\\nlength_in_samples = model_14v.shape[0]\\nmodel_8v = np.zeros([timefrs,8])\\n\\nreduced_mapping = {\\n    \"kick\": [0,[0]],     # kick\\n    \"snare\": [1,[1,2]],   # snare + snare rim \\n    \"crash\": [2,[3]],     # crash\\n    \"ride\": [3,[4,12]],  # ride + bell\\n    \"open_hh\": [4,[5]],     # open hh\\n    \"closed_hh\": [5,[6]],     # closed hh\\n    \"low_mid_tom\": [6,[7,8]],   # low+mid tom\\n    \"high_tom\": [7,[9]]      # high tom\\n}\\n\\n\\neps = 0 #threshold ?\\nfor t in range(timefrs):\\n    t_roll = model_14v[t,:]\\n    t_roll[t_roll<eps] = 0\\n    for i,inst in enumerate(reduced_mapping.keys()):\\n        model_8v[t,i] = np.max(t_roll[reduced_mapping[inst][1]])\\n\\n'"
      ]
     },
     "execution_count": 20,
     "metadata": {},
     "output_type": "execute_result"
    }
   ],
   "source": [
    "\"\"\"\n",
    "failing\n",
    "# reduce 14 voices to the 8 present in the magenta dataset\n",
    "\n",
    "length_in_samples = model_14v.shape[0]\n",
    "model_8v = np.zeros([timefrs,8])\n",
    "\n",
    "reduced_mapping = {\n",
    "    \"kick\": [0,[0]],     # kick\n",
    "    \"snare\": [1,[1,2]],   # snare + snare rim \n",
    "    \"crash\": [2,[3]],     # crash\n",
    "    \"ride\": [3,[4,12]],  # ride + bell\n",
    "    \"open_hh\": [4,[5]],     # open hh\n",
    "    \"closed_hh\": [5,[6]],     # closed hh\n",
    "    \"low_mid_tom\": [6,[7,8]],   # low+mid tom\n",
    "    \"high_tom\": [7,[9]]      # high tom\n",
    "}\n",
    "\n",
    "\n",
    "eps = 0 #threshold ?\n",
    "for t in range(timefrs):\n",
    "    t_roll = model_14v[t,:]\n",
    "    t_roll[t_roll<eps] = 0\n",
    "    for i,inst in enumerate(reduced_mapping.keys()):\n",
    "        model_8v[t,i] = np.max(t_roll[reduced_mapping[inst][1]])\n",
    "\n",
    "\"\"\""
   ]
  }
 ],
 "metadata": {
  "kernelspec": {
   "display_name": "rhythm",
   "language": "python",
   "name": "rhtyhm"
  },
  "language_info": {
   "codemirror_mode": {
    "name": "ipython",
    "version": 2
   },
   "file_extension": ".py",
   "mimetype": "text/x-python",
   "name": "python",
   "nbconvert_exporter": "python",
   "pygments_lexer": "ipython2",
   "version": "2.7.15"
  }
 },
 "nbformat": 4,
 "nbformat_minor": 4
}
